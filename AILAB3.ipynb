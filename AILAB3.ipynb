{
 "cells": [
  {
   "cell_type": "code",
   "execution_count": 7,
   "id": "d0a1829f-b6a5-45ec-8fde-e317ae528c5a",
   "metadata": {},
   "outputs": [
    {
     "name": "stdout",
     "output_type": "stream",
     "text": [
      "Prediction: [0]\n",
      "Confusion Matrix:\n",
      " [[0 0]\n",
      " [1 0]]\n",
      "Accuracy: 0.0\n"
     ]
    }
   ],
   "source": [
    "#2022f-bse-002\n",
    "from sklearn import preprocessing\n",
    "from sklearn.neighbors import KNeighborsClassifier\n",
    "from sklearn.metrics import confusion_matrix, accuracy_score\n",
    "from sklearn.model_selection import train_test_split\n",
    "\n",
    "# Sample dataset\n",
    "weather = ['Sunny', 'Overcast', 'Rain', 'Sunny']\n",
    "temperature = ['Hot', 'Mild', 'Cool', 'Hot']\n",
    "play = ['No', 'Yes', 'Yes', 'No']\n",
    "\n",
    "# Label encoding\n",
    "le = preprocessing.LabelEncoder()\n",
    "weather_encoded = le.fit_transform(weather)\n",
    "temp_encoded = le.fit_transform(temperature)\n",
    "play_encoded = le.fit_transform(play)\n",
    "\n",
    "# Combine features and split dataset\n",
    "features = list(zip(weather_encoded, temp_encoded))\n",
    "features_train, features_test, label_train, label_test = train_test_split(features, play_encoded, test_size=0.2, random_state=42)\n",
    "\n",
    "# KNN Model\n",
    "model = KNeighborsClassifier(n_neighbors=3, metric='euclidean')\n",
    "model.fit(features_train, label_train)\n",
    "\n",
    "# Prediction\n",
    "predicted = model.predict(features_test)\n",
    "print(\"Prediction:\", predicted)\n",
    "\n",
    "# Confusion Matrix\n",
    "conf_mat = confusion_matrix(label_test, predicted)\n",
    "print(\"Confusion Matrix:\\n\", conf_mat)\n",
    "\n",
    "# Accuracy\n",
    "accuracy = accuracy_score(label_test, predicted)\n",
    "print(\"Accuracy:\", accuracy)"
   ]
  },
  {
   "cell_type": "code",
   "execution_count": 8,
   "id": "10a55f6e-c296-4be2-8142-8f1cc604fa7b",
   "metadata": {},
   "outputs": [
    {
     "name": "stdout",
     "output_type": "stream",
     "text": [
      "The predicted classification of the new tissue paper is: Class B\n"
     ]
    }
   ],
   "source": [
    "#2022F-BSE-002\n",
    "#2022F-BSE-002\n",
    "from sklearn.neighbors import KNeighborsClassifier\n",
    "import numpy as np\n",
    "\n",
    "# Training data: [X1 (acid durability), X2 (strength)]\n",
    "# Labels: 0 = Class A, 1 = Class B (Example labels; can be replaced based on your data)\n",
    "X_train = np.array([\n",
    "    [1, 2],  # Sample 1 (Class A)\n",
    "    [2, 3],  # Sample 2 (Class A)\n",
    "    [3, 6],  # Sample 3 (Class B)\n",
    "    [4, 5]   # Sample 4 (Class B)\n",
    "])\n",
    "y_train = np.array([0, 0, 1, 1])  # Labels for the training samples\n",
    "\n",
    "# New tissue paper sample with X1=3 and X2=7\n",
    "X_test = np.array([[3, 7]])\n",
    "\n",
    "# Instantiate and train the KNN classifier\n",
    "knn = KNeighborsClassifier(n_neighbors=3)\n",
    "knn.fit(X_train, y_train)\n",
    "\n",
    "# Predict the classification of the new sample\n",
    "y_pred = knn.predict(X_test)\n",
    "\n",
    "# Output the result\n",
    "classification = \"Class A\" if y_pred[0] == 0 else \"Class B\"\n",
    "print(f\"The predicted classification of the new tissue paper is: {classification}\")\n"
   ]
  },
  {
   "cell_type": "code",
   "execution_count": 18,
   "id": "0443a0f8-a77f-4a35-8745-372d8357d888",
   "metadata": {},
   "outputs": [
    {
     "name": "stdout",
     "output_type": "stream",
     "text": [
      "Confusion Matrix:\n",
      " [[3 0]\n",
      " [1 0]]\n",
      "Accuracy: 0.75\n"
     ]
    }
   ],
   "source": [
    "#2022F-BSE-002\n",
    "#2022F-BSE-002\n",
    "import pandas as pd\n",
    "from sklearn.model_selection import train_test_split\n",
    "from sklearn.neighbors import KNeighborsClassifier\n",
    "from sklearn.preprocessing import LabelEncoder\n",
    "from sklearn.metrics import confusion_matrix, accuracy_score\n",
    "\n",
    "# Dataset\n",
    "data = {\n",
    "    'Rank': [1, 2, 3, 4, 6, 7, 8, 9, 10, 10],\n",
    "    'Title': [\n",
    "        'Da Vinci Code', 'Harry Potter and the Deathly Hallows', \n",
    "        'Harry Potter and the Philosopher\\'s Stone', 'Harry Potter and the Order of the Phoenix', \n",
    "        'Harry Potter and the Goblet of Fire', 'Harry Potter and the Chamber of Secrets', \n",
    "        'Harry Potter and the Prisoner of Azkaban', 'Angels and Demons', \n",
    "        'Harry Potter and the Half-blood Prince:Children\\'s Edition', 'Girl with the Dragon Tattoo, The: Millennium Trilogy'\n",
    "    ],\n",
    "    'Author': ['Brown, Dan', 'Rowling, J.K.', 'Rowling, J.K.', 'Rowling, J.K.', \n",
    "               'Rowling, J.K.', 'Rowling, J.K.', 'Rowling, J.K.', 'Brown, Dan', \n",
    "               'Rowling, J.K.', 'Larsson, Stieg'],\n",
    "    'Volume Sales': [5094805, 4475152, 4200654, 4179479, 3583215, 3484047, 3377906, \n",
    "                     3193946, 2950264, 2233570],\n",
    "    'Publisher': ['Transworld', 'Bloomsbury', 'Bloomsbury', 'Bloomsbury', \n",
    "                  'Bloomsbury', 'Bloomsbury', 'Bloomsbury', 'Transworld', \n",
    "                  'Bloomsbury', 'Quercus'],\n",
    "    'Genre': [\n",
    "        'Crime, Thriller & Adventure', 'Children\\'s Fiction', 'Children\\'s Fiction', \n",
    "        'Children\\'s Fiction', 'Children\\'s Fiction', 'Children\\'s Fiction', \n",
    "        'Children\\'s Fiction', 'Crime, Thriller & Adventure', 'Children\\'s Fiction', \n",
    "        'Crime, Thriller & Adventure'\n",
    "    ]\n",
    "}\n",
    "# Convert to DataFrame\n",
    "df = pd.DataFrame(data)\n",
    "\n",
    "# Encode categorical variables\n",
    "le_author = LabelEncoder()\n",
    "le_genre = LabelEncoder()\n",
    "le_publisher = LabelEncoder()  # Added for Publisher\n",
    "\n",
    "df['Author'] = le_author.fit_transform(df['Author'])\n",
    "df['Genre'] = le_genre.fit_transform(df['Genre'])\n",
    "df['Publisher'] = le_publisher.fit_transform(df['Publisher'])  # Encode Publisher\n",
    "\n",
    "# Define features and target (dropping the Title column)\n",
    "X = df.drop(columns=['Publisher', 'Title'])\n",
    "y = df['Publisher']\n",
    "\n",
    "# Split dataset\n",
    "X_train, X_test, y_train, y_test = train_test_split(X, y, test_size=0.4, random_state=1)\n",
    "\n",
    "# Initialize KNN model\n",
    "knn = KNeighborsClassifier(n_neighbors=3)\n",
    "knn.fit(X_train, y_train)\n",
    "\n",
    "# Make predictions\n",
    "y_pred = knn.predict(X_test)\n",
    "\n",
    "# Evaluate model\n",
    "conf_mat = confusion_matrix(y_test, y_pred)\n",
    "accuracy = accuracy_score(y_test, y_pred)\n",
    "\n",
    "print(\"Confusion Matrix:\\n\", conf_mat)\n",
    "print(\"Accuracy:\", accuracy)\n"
   ]
  },
  {
   "cell_type": "code",
   "execution_count": null,
   "id": "0c1a4b22-8faa-4c64-a9ee-a9f496570d95",
   "metadata": {},
   "outputs": [],
   "source": []
  }
 ],
 "metadata": {
  "kernelspec": {
   "display_name": "Python 3 (ipykernel)",
   "language": "python",
   "name": "python3"
  },
  "language_info": {
   "codemirror_mode": {
    "name": "ipython",
    "version": 3
   },
   "file_extension": ".py",
   "mimetype": "text/x-python",
   "name": "python",
   "nbconvert_exporter": "python",
   "pygments_lexer": "ipython3",
   "version": "3.12.3"
  }
 },
 "nbformat": 4,
 "nbformat_minor": 5
}
